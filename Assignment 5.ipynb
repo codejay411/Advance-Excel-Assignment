{
 "cells": [
  {
   "cell_type": "markdown",
   "id": "2ee94601",
   "metadata": {},
   "source": [
    "### 1. How many types of conditions are available in conditional formatting on Excel?\n"
   ]
  },
  {
   "cell_type": "markdown",
   "id": "2d17374d",
   "metadata": {},
   "source": [
    "There are 5 types of conditional formatting visualizations available: Background Color Shading (of cells) Foreground Color Shading (of fonts) Data Bars."
   ]
  },
  {
   "cell_type": "markdown",
   "id": "85155d43",
   "metadata": {},
   "source": [
    "### 2. How to insert border in Excel with Format Cells dialog?\n"
   ]
  },
  {
   "cell_type": "markdown",
   "id": "504d7345",
   "metadata": {},
   "source": [
    "1. Select one or more cells to which you'd like to add borders.\n",
    "2. Open the Format Cells dialog box by doing one of the following: ...\n",
    "3. In the Format Cells dialog box, switch to the Border tab and choose the line style and color first. ...\n",
    "4. When done, click OK."
   ]
  },
  {
   "cell_type": "markdown",
   "id": "b5137ef2",
   "metadata": {},
   "source": [
    "### 3. How to Format Numbers as Currency in Excel?\n"
   ]
  },
  {
   "cell_type": "markdown",
   "id": "02513624",
   "metadata": {},
   "source": [
    "1. Select the cells that you want to format and then, in the Number group on the Home tab, click the down arrow in the Number Format box.\n",
    "2. Choose either Currency or Accounting."
   ]
  },
  {
   "cell_type": "markdown",
   "id": "818f6a04",
   "metadata": {},
   "source": [
    "### 4. What are the steps to format numbers in Excel with the Percent style?\n"
   ]
  },
  {
   "cell_type": "markdown",
   "id": "04aa2b2b",
   "metadata": {},
   "source": [
    "On the Home tab, in the Number group, click the icon next to Number to display the Format Cells dialog box. In the Format Cells dialog box, in the Category list, click Percentage. In the Decimal places box, enter the number of decimal places that you want to display."
   ]
  },
  {
   "cell_type": "markdown",
   "id": "cab8dfb3",
   "metadata": {},
   "source": [
    "### 5. What is a shortcut to merge two or more cells in excel?\n"
   ]
  },
  {
   "cell_type": "markdown",
   "id": "1549f4ea",
   "metadata": {},
   "source": [
    "Excel Shortcuts for Windows\n",
    "1. Merge Cells: ALT H+M+M.\n",
    "2. Merge & Center: ALT H+M+C.\n",
    "3. Merge Across: ALT H+M+A.\n",
    "4. Unmerge Cells: ALT H+M+U."
   ]
  },
  {
   "cell_type": "markdown",
   "id": "e31a78b5",
   "metadata": {},
   "source": [
    "### 6. How do you use text commands in Excel?"
   ]
  },
  {
   "cell_type": "markdown",
   "id": "03f54d04",
   "metadata": {},
   "source": [
    "Select the column, or range where you'll be putting the values, then use CTRL+1 to bring up the Format > Cells dialog and on the Number tab select Text. Now Excel will keep your leading 0's. If you've already entered data and Excel has removed your leading 0's, you can use the TEXT function to add them back."
   ]
  },
  {
   "cell_type": "code",
   "execution_count": null,
   "id": "15ba4c3c",
   "metadata": {},
   "outputs": [],
   "source": []
  }
 ],
 "metadata": {
  "kernelspec": {
   "display_name": "Python 3 (ipykernel)",
   "language": "python",
   "name": "python3"
  },
  "language_info": {
   "codemirror_mode": {
    "name": "ipython",
    "version": 3
   },
   "file_extension": ".py",
   "mimetype": "text/x-python",
   "name": "python",
   "nbconvert_exporter": "python",
   "pygments_lexer": "ipython3",
   "version": "3.9.7"
  }
 },
 "nbformat": 4,
 "nbformat_minor": 5
}
