{
 "cells": [
  {
   "cell_type": "markdown",
   "id": "9d46640e",
   "metadata": {},
   "source": [
    "### 1. What do you mean by cells in an excel sheet?\n"
   ]
  },
  {
   "cell_type": "markdown",
   "id": "7c9f538a",
   "metadata": {},
   "source": [
    "Cell: A cell is a rectangular area formed by the intersection of a column and a row. Cells are identified by the Cell Name (or Reference, which is found by combining the Column Letter with the Row Number. For example the cell in Column \"C\" in Row \"3\" would be cell C3."
   ]
  },
  {
   "cell_type": "markdown",
   "id": "d689b82c",
   "metadata": {},
   "source": [
    "### 2. How can you restrict someone from copying a cell from your worksheet?\n"
   ]
  },
  {
   "cell_type": "markdown",
   "id": "547900f9",
   "metadata": {},
   "source": [
    "In order to protect your worksheet from getting copied, you need to go into Menu bar >Review > Protect sheet > Password. By entering password, you can secure your worksheet from getting copied by others."
   ]
  },
  {
   "cell_type": "markdown",
   "id": "6684fcd5",
   "metadata": {},
   "source": [
    "### 3. How to move or copy the worksheet into another workbook?\n"
   ]
  },
  {
   "cell_type": "markdown",
   "id": "0ff6aa06",
   "metadata": {},
   "source": [
    "On the Edit menu, click Sheet > Move or Copy Sheet. On the To book menu, click the workbook that you want to copy the sheet to. Tip: To create a new workbook that contains the moved sheet, click new book. In the Before sheet box, click the sheet that you want to insert the copied sheet before, or click move to end."
   ]
  },
  {
   "cell_type": "markdown",
   "id": "3e6057b5",
   "metadata": {},
   "source": [
    "### 4. Which key is used as a shortcut for opening a new window document?\n"
   ]
  },
  {
   "cell_type": "markdown",
   "id": "ec1c71e0",
   "metadata": {},
   "source": [
    "Create a new document: Press Ctrl + N to create a new, untitled document."
   ]
  },
  {
   "cell_type": "markdown",
   "id": "dc10ac6b",
   "metadata": {},
   "source": [
    "### 5. What are the things that we can notice after opening the Excel interface?\n"
   ]
  },
  {
   "cell_type": "markdown",
   "id": "c12992cc",
   "metadata": {},
   "source": [
    "The Excel Starter startup screen appears, and a blank spreadsheet is displayed. In Excel Starter, a spreadsheet is called a worksheet, and worksheets are stored in a file called a workbook. Workbooks can have one or more worksheets in them."
   ]
  },
  {
   "cell_type": "markdown",
   "id": "b7632f5b",
   "metadata": {},
   "source": [
    "### 6. When to use a relative cell reference in excel?"
   ]
  },
  {
   "cell_type": "markdown",
   "id": "df3f3787",
   "metadata": {},
   "source": [
    "This is the most widely used type of cell reference in formulas. Relative cell references are basic cell references that adjust and change when copied or when using AutoFill. Example: =SUM(B5:B8), as shown below, changes to =SUM(C5:C8) when copied across to the next cell."
   ]
  },
  {
   "cell_type": "code",
   "execution_count": null,
   "id": "515614cf",
   "metadata": {},
   "outputs": [],
   "source": []
  }
 ],
 "metadata": {
  "kernelspec": {
   "display_name": "Python 3 (ipykernel)",
   "language": "python",
   "name": "python3"
  },
  "language_info": {
   "codemirror_mode": {
    "name": "ipython",
    "version": 3
   },
   "file_extension": ".py",
   "mimetype": "text/x-python",
   "name": "python",
   "nbconvert_exporter": "python",
   "pygments_lexer": "ipython3",
   "version": "3.9.7"
  }
 },
 "nbformat": 4,
 "nbformat_minor": 5
}
