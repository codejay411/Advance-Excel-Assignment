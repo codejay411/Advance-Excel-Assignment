{
 "cells": [
  {
   "cell_type": "markdown",
   "id": "98ef55d7",
   "metadata": {},
   "source": [
    "### 1. What does the dollar($) sign do?\n"
   ]
  },
  {
   "cell_type": "raw",
   "id": "684aa0f7",
   "metadata": {},
   "source": [
    "A dollar sign ($) is the symbol found on the same key as the number four (4) key on United States QWERTY keyboard. The dollar sign is most often used to represent a U.S. currency value, e.g., $10.00 for ten dollars."
   ]
  },
  {
   "cell_type": "markdown",
   "id": "956d86d0",
   "metadata": {},
   "source": [
    "### 2. How to Change the Reference from Relative to Absolute (or Mixed)?\n"
   ]
  },
  {
   "cell_type": "markdown",
   "id": "38d5a382",
   "metadata": {},
   "source": [
    "\n",
    "1. Press F4 key once: The cell reference changes from A1 to $A$1 (becomes 'absolute' from 'relative').\n",
    "2. Press F4 key two times: The cell reference changes from A1 to A$1 (changes to mixed reference where the row is locked)."
   ]
  },
  {
   "cell_type": "markdown",
   "id": "9551e007",
   "metadata": {},
   "source": [
    "### 3. Explain the order of operations in excel?\n"
   ]
  },
  {
   "cell_type": "markdown",
   "id": "d673a2db",
   "metadata": {},
   "source": [
    "When evaluating a formula, Excel follows a standard math protocol called \"order of operations\". In general, Excel's order of operation follows the acronym PEMDAS (Parentheses, Exponents, Multiplication, Division, Addition, Subtraction) but with some customization to handle the formula syntax in a spreadsheet."
   ]
  },
  {
   "cell_type": "markdown",
   "id": "d5eb56eb",
   "metadata": {},
   "source": [
    "### 4. What, according to you, are the top 5 functions in excel and write a basic syntax for any of two?\n"
   ]
  },
  {
   "cell_type": "raw",
   "id": "ffbcc408",
   "metadata": {},
   "source": [
    "To help you get started, here are 5 important Excel functions you should learn today.\n",
    "The SUM Function. The sum function is the most used function when it comes to computing data on Excel. ...\n",
    "The TEXT Function. ...\n",
    "The VLOOKUP Function. ...\n",
    "The AVERAGE Function. ...\n",
    "The CONCATENATE Function."
   ]
  },
  {
   "cell_type": "markdown",
   "id": "78231b91",
   "metadata": {},
   "source": [
    "### 5. When would you use the subtotal function?\n"
   ]
  },
  {
   "cell_type": "markdown",
   "id": "16c37366",
   "metadata": {},
   "source": [
    "The SUBTOTAL function is used when you display a Total row in an Excel Table. Excel inserts the SUBTOTAL function automatically, and you can use a drop-down menu to switch behavior and show max, min, average, etc."
   ]
  },
  {
   "cell_type": "markdown",
   "id": "27b1ea82",
   "metadata": {},
   "source": [
    "### 6. What is the syntax of the vlookup function? Explain the terms in it?"
   ]
  },
  {
   "cell_type": "markdown",
   "id": "2ce27dcd",
   "metadata": {},
   "source": [
    "In its simplest form, the VLOOKUP function says: =VLOOKUP(What you want to look up, where you want to look for it, the column number in the range containing the value to return, return an Approximate or Exact match – indicated as 1/TRUE, or 0/FALSE)."
   ]
  },
  {
   "cell_type": "code",
   "execution_count": null,
   "id": "4a92e1c6",
   "metadata": {},
   "outputs": [],
   "source": []
  }
 ],
 "metadata": {
  "kernelspec": {
   "display_name": "Python 3 (ipykernel)",
   "language": "python",
   "name": "python3"
  },
  "language_info": {
   "codemirror_mode": {
    "name": "ipython",
    "version": 3
   },
   "file_extension": ".py",
   "mimetype": "text/x-python",
   "name": "python",
   "nbconvert_exporter": "python",
   "pygments_lexer": "ipython3",
   "version": "3.9.7"
  }
 },
 "nbformat": 4,
 "nbformat_minor": 5
}
