{
 "cells": [
  {
   "cell_type": "markdown",
   "id": "ff8ab440",
   "metadata": {},
   "source": [
    "### 1. How and when to use the AutoSum command in excel?\n"
   ]
  },
  {
   "cell_type": "markdown",
   "id": "3968c78f",
   "metadata": {},
   "source": [
    "If you need to sum a column or row of numbers, let Excel do the math for you. Select a cell next to the numbers you want to sum, click AutoSum on the Home tab, press Enter, and you're done. When you click AutoSum, Excel automatically enters a formula (that uses the SUM function) to sum the numbers."
   ]
  },
  {
   "cell_type": "markdown",
   "id": "fb6e7ea5",
   "metadata": {},
   "source": [
    "### 2. What is the shortcut key to perform AutoSum?\n"
   ]
  },
  {
   "cell_type": "markdown",
   "id": "0d5f97cf",
   "metadata": {},
   "source": [
    "What is the Autosum Excel Function? The Autosum Excel function can be accessed by typing ALT + the = sign in a spreadsheet, and it will automatically create a formula to sum all the numbers in a continuous range."
   ]
  },
  {
   "cell_type": "markdown",
   "id": "06c7ab0f",
   "metadata": {},
   "source": [
    "### 3. How do you get rid of Formula that omits adjacent cells?\n"
   ]
  },
  {
   "cell_type": "markdown",
   "id": "6d0fdb7d",
   "metadata": {},
   "source": [
    "To turn off the notification \"Formula Omits Adjacent Cells\" you're getting, kindly follow the steps below:\n",
    "1. Open Excel and then click on File.\n",
    "2. Go to Options and then select Formulas.\n",
    "3. Look for Error checking rules and uncheck Formulas which omit cells in a region.\n",
    "4. Click OK."
   ]
  },
  {
   "cell_type": "markdown",
   "id": "de2a3f68",
   "metadata": {},
   "source": [
    "### 4. How do you select non-adjacent cells in Excel 2016?\n"
   ]
  },
  {
   "cell_type": "markdown",
   "id": "74b06cf8",
   "metadata": {},
   "source": [
    "To select a range, select a cell, then with the left mouse button pressed, drag over the other cells. Or use the Shift + arrow keys to select the range. To select non-adjacent cells and cell ranges, hold Ctrl and select the cells."
   ]
  },
  {
   "cell_type": "markdown",
   "id": "84d184df",
   "metadata": {},
   "source": [
    "### 5. What happens if you choose a column, hold down the Alt key and press the letters ocw in quick succession?\n"
   ]
  },
  {
   "cell_type": "markdown",
   "id": "c71f57d4",
   "metadata": {},
   "source": [
    "The contents of the first cell in the selected column will be replaced with the letters ‘O-C-W’."
   ]
  },
  {
   "cell_type": "markdown",
   "id": "75ff2eab",
   "metadata": {},
   "source": [
    "### 6. If you right-click on a row reference number and click on Insert, where will the row be added?"
   ]
  },
  {
   "cell_type": "markdown",
   "id": "12113a97",
   "metadata": {},
   "source": [
    "Click the Insert command on the Home tab. The new row will appear above the selected row."
   ]
  },
  {
   "cell_type": "code",
   "execution_count": null,
   "id": "4cc6d6a5",
   "metadata": {},
   "outputs": [],
   "source": []
  }
 ],
 "metadata": {
  "kernelspec": {
   "display_name": "Python 3 (ipykernel)",
   "language": "python",
   "name": "python3"
  },
  "language_info": {
   "codemirror_mode": {
    "name": "ipython",
    "version": 3
   },
   "file_extension": ".py",
   "mimetype": "text/x-python",
   "name": "python",
   "nbconvert_exporter": "python",
   "pygments_lexer": "ipython3",
   "version": "3.9.7"
  }
 },
 "nbformat": 4,
 "nbformat_minor": 5
}
