{
 "cells": [
  {
   "cell_type": "markdown",
   "id": "40ee5fd9",
   "metadata": {},
   "source": [
    "### 1. To use the ribbon commands, what menu and grouping of commands will you find the Insert and Delete command?\n"
   ]
  },
  {
   "cell_type": "markdown",
   "id": "54c75614",
   "metadata": {},
   "source": [
    "Following are the tabs in the excel ribbon. Home: This is the most popular bar and displayed by default when excel is opened. This tab contains the basic Clipboard commands, formatting commands, style commands, commands to insert and delete rows or columns, plus an assortment of worksheet editing commands"
   ]
  },
  {
   "cell_type": "markdown",
   "id": "4aeb42ee",
   "metadata": {},
   "source": [
    "### 2. If you set a row height or column width to 0 (zero), what happens to the row and column?\n"
   ]
  },
  {
   "cell_type": "markdown",
   "id": "298d4e93",
   "metadata": {},
   "source": [
    "Again, just like columns, if you set the row height to 0 (zero), Excel will hide the row."
   ]
  },
  {
   "cell_type": "markdown",
   "id": "424a1089",
   "metadata": {},
   "source": [
    "### 3. Is there a need to change the height and width in a cell? Why?\n"
   ]
  },
  {
   "cell_type": "markdown",
   "id": "e9ddde35",
   "metadata": {},
   "source": [
    "It is necessary to change width and height in excel to fit the data. Excel by default provide equal width and height with respect to columns and rows. Whenever we enter a lengthy data, few characters will get displayed and other will be present inside the cell but will be hidden to the user."
   ]
  },
  {
   "cell_type": "markdown",
   "id": "3a019556",
   "metadata": {},
   "source": [
    "### 4. What is the keyboard shortcut to unhide rows?\n"
   ]
  },
  {
   "cell_type": "markdown",
   "id": "20296c34",
   "metadata": {},
   "source": [
    "1. If you'd rather not take your hands off the keyboard, you can quickly hide the selected row(s) by pressing this shortcut: Ctrl + 9.\n",
    "2. Here is the Excel Unhide Rows shortcut: Ctrl + Shift + 9."
   ]
  },
  {
   "cell_type": "markdown",
   "id": "ff35fe85",
   "metadata": {},
   "source": [
    "### 5. How to hide rows containing blank cells?\n"
   ]
  },
  {
   "cell_type": "markdown",
   "id": "c18097a3",
   "metadata": {},
   "source": [
    "1. Select the range that contains empty cells you want to hide.\n",
    "2. On the Home tab, in the Editing group, click Find & Select > Go To Special.\n",
    "3. In the Go To Special dialog box, select the Blanks radio button, and click OK. ...\n",
    "4. Press Ctrl + 9 to hide the corresponding rows."
   ]
  },
  {
   "cell_type": "markdown",
   "id": "7f949f63",
   "metadata": {},
   "source": [
    "### 6. What are the steps to hide the duplicate values using conditional formatting in excel?"
   ]
  },
  {
   "cell_type": "markdown",
   "id": "7c654961",
   "metadata": {},
   "source": [
    "1. Select the range you want to hide duplicates. ...\n",
    "2. Then click Conditional Formatting > Highlight Cells Rules > Duplicate Values under Home tab. ...\n",
    "3. In the Duplicate Values dialog box, select Custom Format in the values with drop-down list, and then click the OK button."
   ]
  },
  {
   "cell_type": "code",
   "execution_count": null,
   "id": "de7a7624",
   "metadata": {},
   "outputs": [],
   "source": []
  }
 ],
 "metadata": {
  "kernelspec": {
   "display_name": "Python 3 (ipykernel)",
   "language": "python",
   "name": "python3"
  },
  "language_info": {
   "codemirror_mode": {
    "name": "ipython",
    "version": 3
   },
   "file_extension": ".py",
   "mimetype": "text/x-python",
   "name": "python",
   "nbconvert_exporter": "python",
   "pygments_lexer": "ipython3",
   "version": "3.9.7"
  }
 },
 "nbformat": 4,
 "nbformat_minor": 5
}
